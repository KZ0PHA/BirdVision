{
 "cells": [
  {
   "cell_type": "markdown",
   "id": "a8fbe177",
   "metadata": {},
   "source": [
    "# BirdVision"
   ]
  },
  {
   "cell_type": "markdown",
   "id": "63ab820d",
   "metadata": {},
   "source": [
    "## Dataset outline"
   ]
  },
  {
   "cell_type": "markdown",
   "id": "6fc38f57",
   "metadata": {},
   "source": [
    "Bird species dataset from Kaggle https://www.kaggle.com/datasets/gpiosenka/100-bird-species/data?select=birds.csv\n",
    "\n",
    "Key points about the dataset:\n",
    "\n",
    "- 224 X 224 X 3 px (RGB) in jpg format\n",
    "- Data set includes a train set, validation set and test set. \n",
    "- Each set contains 525 sub directories, one for each bird species. \n",
    "- The `filepaths` column contains the relative file path to an image file. \n",
    "- The labels column contains the bird species class name associated with the image file. \n",
    "- The scientific label column contains the *latin* scientific name for the species. \n",
    "- The data set column denotes which dataset (train, test or valid) the filepath resides in. \n",
    "- The class_id column contains the class index value associated with the image file's class."
   ]
  },
  {
   "cell_type": "markdown",
   "id": "2243e429",
   "metadata": {},
   "source": [
    "## `birds.csv` exploration"
   ]
  },
  {
   "cell_type": "markdown",
   "id": "354d4fd5",
   "metadata": {},
   "source": [
    "The dataset also includes a file named birds.csv which contains 5 columns: `class id`, `filepaths`, `labels`, `data set`, `scientific name` \n",
    "\n",
    "1. Inspect the dataset \n",
    "2. Create a new dataframe with the distinct bird species"
   ]
  },
  {
   "cell_type": "code",
   "execution_count": 1,
   "id": "bd89f9f3",
   "metadata": {},
   "outputs": [],
   "source": [
    "import pandas as pd\n",
    "import numpy as np\n",
    "import matplotlib.pyplot as plt\n",
    "%matplotlib inline"
   ]
  },
  {
   "cell_type": "code",
   "execution_count": 2,
   "id": "d6d71767",
   "metadata": {},
   "outputs": [
    {
     "data": {
      "text/html": [
       "<div>\n",
       "<style scoped>\n",
       "    .dataframe tbody tr th:only-of-type {\n",
       "        vertical-align: middle;\n",
       "    }\n",
       "\n",
       "    .dataframe tbody tr th {\n",
       "        vertical-align: top;\n",
       "    }\n",
       "\n",
       "    .dataframe thead th {\n",
       "        text-align: right;\n",
       "    }\n",
       "</style>\n",
       "<table border=\"1\" class=\"dataframe\">\n",
       "  <thead>\n",
       "    <tr style=\"text-align: right;\">\n",
       "      <th></th>\n",
       "      <th>class id</th>\n",
       "      <th>filepaths</th>\n",
       "      <th>labels</th>\n",
       "      <th>data set</th>\n",
       "      <th>scientific name</th>\n",
       "    </tr>\n",
       "  </thead>\n",
       "  <tbody>\n",
       "    <tr>\n",
       "      <th>0</th>\n",
       "      <td>0.0</td>\n",
       "      <td>train/ABBOTTS BABBLER/001.jpg</td>\n",
       "      <td>ABBOTTS BABBLER</td>\n",
       "      <td>train</td>\n",
       "      <td>MALACOCINCLA ABBOTTI</td>\n",
       "    </tr>\n",
       "    <tr>\n",
       "      <th>1</th>\n",
       "      <td>0.0</td>\n",
       "      <td>train/ABBOTTS BABBLER/007.jpg</td>\n",
       "      <td>ABBOTTS BABBLER</td>\n",
       "      <td>train</td>\n",
       "      <td>MALACOCINCLA ABBOTTI</td>\n",
       "    </tr>\n",
       "    <tr>\n",
       "      <th>2</th>\n",
       "      <td>0.0</td>\n",
       "      <td>train/ABBOTTS BABBLER/008.jpg</td>\n",
       "      <td>ABBOTTS BABBLER</td>\n",
       "      <td>train</td>\n",
       "      <td>MALACOCINCLA ABBOTTI</td>\n",
       "    </tr>\n",
       "    <tr>\n",
       "      <th>3</th>\n",
       "      <td>0.0</td>\n",
       "      <td>train/ABBOTTS BABBLER/009.jpg</td>\n",
       "      <td>ABBOTTS BABBLER</td>\n",
       "      <td>train</td>\n",
       "      <td>MALACOCINCLA ABBOTTI</td>\n",
       "    </tr>\n",
       "    <tr>\n",
       "      <th>4</th>\n",
       "      <td>0.0</td>\n",
       "      <td>train/ABBOTTS BABBLER/002.jpg</td>\n",
       "      <td>ABBOTTS BABBLER</td>\n",
       "      <td>train</td>\n",
       "      <td>MALACOCINCLA ABBOTTI</td>\n",
       "    </tr>\n",
       "  </tbody>\n",
       "</table>\n",
       "</div>"
      ],
      "text/plain": [
       "   class id                      filepaths           labels data set  \\\n",
       "0       0.0  train/ABBOTTS BABBLER/001.jpg  ABBOTTS BABBLER    train   \n",
       "1       0.0  train/ABBOTTS BABBLER/007.jpg  ABBOTTS BABBLER    train   \n",
       "2       0.0  train/ABBOTTS BABBLER/008.jpg  ABBOTTS BABBLER    train   \n",
       "3       0.0  train/ABBOTTS BABBLER/009.jpg  ABBOTTS BABBLER    train   \n",
       "4       0.0  train/ABBOTTS BABBLER/002.jpg  ABBOTTS BABBLER    train   \n",
       "\n",
       "        scientific name  \n",
       "0  MALACOCINCLA ABBOTTI  \n",
       "1  MALACOCINCLA ABBOTTI  \n",
       "2  MALACOCINCLA ABBOTTI  \n",
       "3  MALACOCINCLA ABBOTTI  \n",
       "4  MALACOCINCLA ABBOTTI  "
      ]
     },
     "execution_count": 2,
     "metadata": {},
     "output_type": "execute_result"
    }
   ],
   "source": [
    "df = pd.read_csv('birds.csv')\n",
    "df.head(5)"
   ]
  },
  {
   "cell_type": "code",
   "execution_count": 3,
   "id": "50b598ba",
   "metadata": {},
   "outputs": [
    {
     "data": {
      "text/plain": [
       "train    84635\n",
       "test      2625\n",
       "valid     2625\n",
       "Name: data set, dtype: int64"
      ]
     },
     "execution_count": 3,
     "metadata": {},
     "output_type": "execute_result"
    }
   ],
   "source": [
    "df['data set'].value_counts()"
   ]
  },
  {
   "cell_type": "code",
   "execution_count": 4,
   "id": "df0ada0f",
   "metadata": {
    "scrolled": true
   },
   "outputs": [
    {
     "name": "stdout",
     "output_type": "stream",
     "text": [
      "Unique species in train set: 522\n",
      "Unique species in validate set: 522\n",
      "Unique species in test set: 522\n"
     ]
    }
   ],
   "source": [
    "train = df[df['data set'].isin(['train'])]\n",
    "val = df[df['data set'].isin(['valid'])]\n",
    "test = df[df['data set'].isin(['test'])]\n",
    "\n",
    "# unique species in train set\n",
    "print(f\"Unique species in train set:\", len(train['scientific name'].unique()))\n",
    "\n",
    "# unique species in validate set\n",
    "print(f\"Unique species in validate set:\", len(val['scientific name'].unique()))\n",
    "\n",
    "# unique species in test set\n",
    "print(f\"Unique species in test set:\", len(test['scientific name'].unique()))"
   ]
  },
  {
   "cell_type": "code",
   "execution_count": 5,
   "id": "2aac5560",
   "metadata": {
    "scrolled": true
   },
   "outputs": [
    {
     "data": {
      "text/plain": [
       "array(['MALACOCINCLA ABBOTTI', 'PAPASULA ABBOTTI', 'BUCORVUS ABYSSINICUS',\n",
       "       'BALEARICA REGULORUM', 'CHRYSOCOCCYX CUPREUS',\n",
       "       'LAGONOSTICTA RUBRICATA', 'HAEMATOPUS MOQUINI', 'TOCKUS FASCIATUS',\n",
       "       'NETTAPUS AURITUS', 'DIOMEDEIDAE', 'PIPILO ABERTI',\n",
       "       'PSITTACULA EUPATRIA', 'PYRRHOCORAX GRACULUS',\n",
       "       'GEOTHLYPIS FLAVOVELATA', 'BOTAURUS LENTIGINOSUS',\n",
       "       'FULICA AMERICANA', 'PHOENICOPTERUS RUBER', 'SPINUS TRISTIS',\n",
       "       'FALCO SPARVERIUS', 'ANTHUS RUBESCENS', 'SETOPHAGA RUTICILLA',\n",
       "       'TURDUS MIGRATORIUS', 'MARECA AMERICANA', 'CALLIPHLOX AMETHYSTINA',\n",
       "       'CHLOEPHAGA MELANOPTERA', 'VANELLUS RESPLENDENS',\n",
       "       'SPINUS SPINESCENS', 'ANHINGA ANHINGA', 'MAGUMMA PARVA',\n",
       "       'CALYPTE ANNA', 'THAMNOPHILIDAE', 'EUPHONIA MUSICA',\n",
       "       'HIMATIONE SANGUINEA', 'STRUTHIDEA CINEREA',\n",
       "       'ANTILOPHIA BOKERMANNI', 'OCEANODROMA HOMOCHROA',\n",
       "       'GEOKICHLA CINEREA', 'NIPPONIA NIPPON', 'EURYSTOMUS ORIENTALIS',\n",
       "       'MEROPS ORIENTALIS', 'ANASTOMUS OSCITANS', 'LEUCOCARBO COLENSOI',\n",
       "       'ASTHENES ANTHOIDES', 'SPHECOTHERES VIEILLOTI',\n",
       "       'AMANDAVA AMANDAVA', 'SYNALLAXIS AZARAE', 'PITTA STEERII',\n",
       "       'CYANOCORAX CAERULEUS', 'THRAUPIS CYANOPTERA', 'CYANISTES CYANUS',\n",
       "       'ANAS FORMOSA', 'HALIAEETUS LEUCOCEPHALUS', 'GERONTICUS EREMITA',\n",
       "       'LEUCOPSAR ROTHSCHILDI', 'ICTERUS GALBULA', 'COEREBA FLAVEOLA',\n",
       "       'PENELOPE ARGYROTIS', 'EURYLAIMUS JAVANICUS', 'HYDRORNIS GUAJANA',\n",
       "       'CLADORHYNCHUS LEUCOCEPHALUS', 'LIMOSA LAPPONICA', 'TYTO ALBA',\n",
       "       'HIRUNDO RUSTICA', 'NYSTALUS RADIATUS', 'BUCEPHALA ISLANDICA',\n",
       "       'SETOPHAGA CASTANEA', 'LYBIUS DUBIUS', 'PROCNIAS AVERANO',\n",
       "       'PANURUS BIARMICUS', 'MEGACERYLE ALCYON', 'STRELITZIA',\n",
       "       'EURYLAIMUS OCHROMALUS', 'AVICEDA LEUPHOTES',\n",
       "       'CALYPTORHYNCHUS LATIROSTRIS', 'PLATALEA MINOR',\n",
       "       'FRANCOLINUS FRANCOLINUS', 'PIONITES MELANOCEPHALUS',\n",
       "       'HIMANTOPUS MEXICANUS', 'RYNCHOPS NIGER', 'CYGNUS ATRATUS',\n",
       "       'AMAURORNIS BICOLOR', 'AEGITHALOS CONCINNUS',\n",
       "       'PTEROPTOCHOS TARNII', 'SETOPHAGA CAERULESCENS',\n",
       "       'PUFFINUS OPISTHOMELA', 'CORAGYPS ATRATUS', 'POECILE ATRICAPILLUS',\n",
       "       'PODICEPS NIGRICOLLIS', 'AMPHISPIZA BILINEATA', 'SETOPHAGA FUSCA',\n",
       "       'CELEUS FLAVESCENS', 'ITHAGINIS CRUENTUS', 'COUA CAERULEA',\n",
       "       'DACNIS CAYANA', 'POLIOPTILA CAERULEA', 'PASSERINA CAERULEA',\n",
       "       'DENDRAGAPUS OBSCURUS', 'ARDEA HERODIAS', 'CEUTHMOCHARES AEREUS',\n",
       "       'AULACORHYNCHUS CAERULEOGULARIS', 'DOLICHONYX ORYZIVORUS',\n",
       "       'PITYRIASIS GYMNOCEPHALA', 'CHLOROPSIS KINABALUENSIS',\n",
       "       'POLYPLECTRON SCHLEIERMACHERI', 'PHALACROCORAX PENICILLATUS',\n",
       "       'EUPHAGUS CYANOCEPHALUS', 'CERTHIA AMERICANA', 'MOLOTHRUS ATER',\n",
       "       'ANOUS STOLIDUS', 'TOXOSTOMA RUFUM', 'BUCEPHALA ALBEOLA',\n",
       "       'LOPHURA BULWERI', 'CURSORIUS RUFUS', 'ALECTURA LATHAMI',\n",
       "       'PSEUDOSEISURA CRISTAT', 'TRAGOPAN CABOTI',\n",
       "       'CAMPYLORHYNCHUS BRUNNEICAPILLUS', 'GYMNOGYPS CALIFORNIANUS',\n",
       "       'LARUS CALIFORNICUS', 'CALLIPEPLA CALIFORNICA',\n",
       "       'COLAPTES CAMPESTRIS', 'SERINUS CANARIA DOMESTICA',\n",
       "       'AYTHYA VALISINERIA', 'LAMPROTORNIS NITENS', 'MACRONYX CAPENSIS',\n",
       "       'SETOPHAGA TIGRINA', 'MONTICOLA RUPESTRIS', 'PILHERODIUS PILEATUS',\n",
       "       'PERISSOCEPHALUS TRICOLOR', 'MEROPS NUBICOIDES',\n",
       "       'HYDROPROGNE CASPIA', 'CASUARIUS', 'BOMBYCILLA CEDRORUM',\n",
       "       'SETOPHAGA CERULEA', 'CYANOLYCA ARMILLATA', 'LORIUS GARRULUS',\n",
       "       'EUPHONIA PECTORALIS', ' CLAMATOR COROMANDUS',\n",
       "       'BAMBUSICOLA THORACICUS', 'ARDEOLA BACCHUS', 'SPIZELLA PASSERINA',\n",
       "       'SCELORCHILUS RUBECULA', 'ALECTORIS CHUKAR', 'ATTILA CINNAMOMEUS',\n",
       "       'PYRRHOMYIAS CINNAMOMEUS', 'ANAS CYANOPTERA',\n",
       "       'AECHMOPHORUS CLARKII', 'NUCIFRAGA COLUMBIANA', 'RUPICOLA',\n",
       "       'CACATUIDAE', 'PTEROGLOSSUS TORQUATUS', 'MELANOPAREIA TORQUATA',\n",
       "       'REGULUS IGNICAPILLA', 'QUISCALUS QUISCULA', 'DELICHON URBICUM',\n",
       "       'AEGITHINA TIPHIA', 'GAVIA IMMER', 'PHALAENOPTILUS NUTTALLII',\n",
       "       'STURNUS VULGARIS', 'MEGALAIMA HAEMACEPHALA',\n",
       "       'CENTROPUS CUPREICAUDUS', 'DROMAS ARDEOLA',\n",
       "       'GERANOSPIZA CAERULESCENS', 'CELEUS FLAVUS', 'AETHIA CRISTATELLA',\n",
       "       'CARACARA CHERIWAY', 'COUA CRISTATA', 'LOPHURA IGNITA',\n",
       "       'MEGACERYLE LUGUBRIS', 'SITTA CAROLINENSIS',\n",
       "       'PSAROCOLIUS DECUMANUS', 'SPILORNIS CHEELA',\n",
       "       'FALCUNCULUS FRONTATUS', 'ROLLULUS ROULOUL', 'EPTHIANURA TRICOLOR',\n",
       "       'AETHOPYGA SIPARAJA', 'CORVUS', 'TODUS MULTICOLOR',\n",
       "       'PRIOTELUS TEMNURUS', 'PTEROGLOSSUS BEAUHARNAESII',\n",
       "       'TRACHYPHONUS DARNAUDII', 'PELECANUS CRISPUS',\n",
       "       'DENDROCOPOS DARJELLENSIS', 'JUNCO HYEMALIS',\n",
       "       'PHOENICURUS AUROREUS', 'GRUS VIRGO', 'TAENIOPYGIA BICHENOVII',\n",
       "       'PHALACROCORAX AURITUS', 'CYCLOPSITTA DIOPHTHALMA',\n",
       "       'PICOIDES PUBESCENS', 'PSEUDEOS FUSCATA', 'MELANODRYAS VITTATA',\n",
       "       'HYDRORNIS PHAYREI', 'SIALIA SIALIS', 'NORTHIELLA HAEMATOGASTER',\n",
       "       'PLOCEUS SUBAUREUS', 'STURNELLA MAGNA', 'PLATYCERCUS EXIMIUS',\n",
       "       'PIPILO ERYTHROPHTHALMUS', 'ANTROSTOMUS VOCIFERUS',\n",
       "       'EOPSALTRIA AUSTRALIS', 'OREOTROCHILUS CHIMBORAZO',\n",
       "       'ALOPOCHEN AEGYPTIACA', 'TROGON ELEGANS', 'SYRMATICUS ELLIOTI',\n",
       "       'TANGARA FLORIDA', 'APTENODYTES FORSTERI',\n",
       "       'DROMAIUS NOVAEHOLLANDIAE', 'GRACULA ENGANENSIS',\n",
       "       'PYRRHULA PYRRHULA', 'ORIOLUS ORIOLUS', 'PICA PICA',\n",
       "       'CARDUELIS CARDUELIS', 'STREPTOPELIA TURTUR',\n",
       "       'COCCOTHRAUSTES VESPERTINUS', 'IRENA', 'EUDYPTULA MINOR',\n",
       "       'STERNULA NEREIS', 'EUPLECTES AXILLARIS',\n",
       "       'CAMPYLORHYNCHUS FASCIATUS', 'PERICROCOTUS IGNEUS',\n",
       "       'EUDYPTES PACHYRHYNCHUS', 'MYZORNIS PYRRHOURA', 'SERICULUS ARDENS',\n",
       "       'PIRANGA BIDENTATA', 'DENDRONANTHUS INDICUS', 'FREGATIDAE',\n",
       "       'COLUMBA LIVIA DOMESTICA', 'CALLIPEPLA GAMBELII',\n",
       "       'CALLOCEPHALON FIMBRIATUM', 'MELANERPES UROPYGIALIS',\n",
       "       'COLAPTES AURATUS', 'PLEGADIS FALCINELLUS',\n",
       "       'CORYTHAIXOIDES CONCOLOR', 'VERMIVORA CHRYSOPTERA',\n",
       "       'PRIONODURA NEWTONIANA', 'SETOPHAGA CHRYSOPARIA',\n",
       "       'CHLOROPHONIA CALLOPHRYS', 'AQUILA CHRYSAETOS', 'GUARUBA GUAROUBA',\n",
       "       'CHRYSOLOPHUS PICTUS', 'TMETOTHYLACUS TENELLUS',\n",
       "       'ERYTHRURA GOULDIAE', 'GRANDALA COELICOLOR',\n",
       "       'DUMETELLA CAROLINENSIS', 'TYRANNUS DOMINICENSIS', 'PERDIX PERDIX',\n",
       "       'ARGUSIANUS ARGU', 'STRIX NEBULOSA', 'JACAMEROPS AUREUS',\n",
       "       'PITANGUS SULPHURATUS', 'NYCTIBIUS GRANDIS', 'TINAMUS MAJOR',\n",
       "       'MEGAXENOPS PARNAGUAE', 'CONTOPUS PERTINAX', 'TYMPANUCHUS CUPIDO',\n",
       "       'CENTROCERCUS UROPHASIANUS', 'CALYPTOMENA VIRIDIS',\n",
       "       'CYANOCORAX YNCAS', 'CISSA CHINENSIS', 'CHALCOPHAPS INDICA',\n",
       "       'CORACINA CAESIA', 'ICHTHYOPHAGA ICHTHYAETUS',\n",
       "       'PLUVIALIS SQUATAROLA', 'CROTOPHAGA SULCIROSTRIS', 'TAURACO PERSA',\n",
       "       'NUMIDIDAE', 'HYDRORNIS GURNEYI', 'FALCO RUSTICOLUS',\n",
       "       'SCOPUS UMBRETTA', 'HISTRIONICUS HISTRIONICUS',\n",
       "       'COTURNIX DELEGORGUEI', 'HARPIA HARPYJA', 'BRANTA SANDVICENSIS',\n",
       "       'COCCOTHRAUSTES COCCOTHRAUSTES', 'EURYCEROS PREVOSTII',\n",
       "       'PIRANGA FLAVA', 'TARSIGER RUFILATUS', 'LOPHOPHORUS IMPEJANUS',\n",
       "       'OPHISTHOCOMUS HOAZIN', 'LOPHODYTES CUCULLATUS', 'UPUPIDAE',\n",
       "       'OREOPHASIS DERBIANUS', 'EREMOPHILA ALPESTRIS',\n",
       "       'HELIACTIN BILOPHUS', 'HAEMORHOUS MEXICANUS', 'PASSER DOMESTICUS',\n",
       "       'ANODORHYNCHUS HYACINTHINUS', 'CYANOPICA COOKI',\n",
       "       'IBIDORHYNCHA STRUTHERSII', 'LEUCOCARBO ATRICEPS',\n",
       "       'LAROSTERNA INCA', 'ARDEOTIS NIGRICEPS', 'PITTA BRACHYURA',\n",
       "       'CORACIAS BENGHALENSIS', 'GYPS INDICUS', 'PASSERINA CYANEA',\n",
       "       'EUMYIAS INDIGO', 'CHARADRIUS AUSTRALIS', 'PTEROGLOSSUS AZARA',\n",
       "       'PAGOPHILA EBURNEA', ' VESTIARIA COCCINEA.', 'JABIRU MYCTERIA',\n",
       "       'LYMNOCRYPTES MINIMUS', 'COLUMBA LIVIA', 'ARATINGA JANDAYA',\n",
       "       'ERITHACUS AKAHIGE', 'LONCHURA ORYZIVORA', 'GRALLARIA RIDGELYI',\n",
       "       'RHYNOCHETOS JUBATUS', 'STRIGOPS HABROPTILUS',\n",
       "       'CHARADRIUS VOCIFERUS', 'SOMATERIA SPECTABILIS',\n",
       "       'SARCORAMPHUS PAPA', 'APTERYX', 'DACELO',\n",
       "       'CALAMOSPIZA MELANOCORYS', 'LEUCOPHAEUS ATRICILLA',\n",
       "       'PASSERINA AMOENA', 'LEPTOPTILOS JAVANICUS', 'CORACIAS CAUDATUS',\n",
       "       'ARAMUS GUARAUNA', 'ALLE ALLE', 'LANIUS LUDOVICIANUS', 'ASIO OTUS',\n",
       "       'LUNATICUS AMERICONIS', 'CALOTHORAX LUCIFER',\n",
       "       'ANSERANAS SEMIPALMATA', 'OCYCEROS GRISEUS',\n",
       "       'CORYTHORNIS CRISTATUS', 'ZOSTEROPS MADERASPATANUS',\n",
       "       'MACROCEPHALON MALEO', 'ANAS PLATYRHYNCHOS', 'AIX GALERICULATA',\n",
       "       'COCCYZUS MINOR', 'LEPTOPTILOS CRUMENIFER',\n",
       "       'COLINUS VIRGINIANUS RIDGWAYI', 'SULA DACTYLATRA',\n",
       "       'VANELLUS MILES', 'PLECTROPHENAX HYPERBOREUS', 'FALCO COLUMBARIUS',\n",
       "       'SYRMATICUS MIKADO', 'ARA MILITARIS', 'ZENAIDA MACROURA',\n",
       "       'ACRIDOTHERES TRISTIS', 'CALOENAS NICOBARICA',\n",
       "       'PHILEMON CORNICULATUS', 'CAMPTOSTOMA IMBERBE',\n",
       "       'CARDINALIS CARDINALIS', 'FULMARUS GLACIALIS', 'MORUS BASSANUS',\n",
       "       'ACCIPITER GENTILIS', 'JACANA SPINOSA', 'MIMUS POLYGLOTTOS',\n",
       "       'SETOPHAGA AMERICANA', 'EUPLECTES FRANCISCANUS',\n",
       "       'SPATULA CLYPEATA', 'MELEAGRIS OCELLATA', 'GALLIRALLUS OKINAWAE',\n",
       "       'HARPACTES ORESKIOS', 'PASSERINA LECLANCHERII', 'PHODILUS BADIUS',\n",
       "       'SPIZAETUS ORNATUS', 'PANDION HALIAETUS', 'STRUTHIO CAMELUS',\n",
       "       'SEIURUS AUROCAPILLA', 'HAEMATOPUS', 'PASSERINA CIRIS',\n",
       "       'LOXIOIDES BAILLEUI', 'GYPOHIERAX ANGOLENSIS', 'TANGARA CHILENSIS',\n",
       "       'AETHIA PSITTACULA', 'PARUS MAJOR', 'PHRYGILUS PATAGONICUS',\n",
       "       'PAVO CRISTATUS', 'FALCO PEREGRINUS', 'PHAINOPEPLA NITENS',\n",
       "       'PITHECOPHAGA JEFFERYI', 'PETROICA RODINOGASTER',\n",
       "       'CYANOCORAX CHRYSOPS', 'STERCORARIUS POMARINUS', 'FRATERCULA',\n",
       "       'ANAS PUNA', 'HAEMORHOUS PURPUREUS', 'PORPHYRIO MARTINICUS',\n",
       "       'PROGNE SUBIS', 'PORPHYRIO PORPHYRIO', 'ISPIDINA PICTA',\n",
       "       'CARDINALIS SINUATUS', 'PHAROMACHRUS MOCINNO',\n",
       "       'TRICHOGLOSSUS MOLUCCANUS', 'ALCA TORDA', 'NYCTYORNIS AMICTUS',\n",
       "       'PITTA ERYTHROGASTER', 'PHAETHON AETHEREU', 'NEOCHMIA TEMPORALIS',\n",
       "       'PHALACROCORAX URILE', 'CARDELLINA RUBRIFRONS',\n",
       "       'FOUDIA MADAGASCARIENSIS', 'AYTHYA AMERICANA',\n",
       "       'MELANERPES ERYTHROCEPHALUS', 'CALIDRIS CANUTUS',\n",
       "       'CYANERPES CYANEUS', 'HARPACTES KASUMBA', 'BUTEO LINEATUS',\n",
       "       'BUTEO JAMAICENSIS', 'NEOCOSSYPHUS RUFUS', 'AGELAIUS PHOENICEUS',\n",
       "       'PYCNONOTUS JOCOSUS', 'SERICULUS CHRYSOCEPHALUS',\n",
       "       'PHASIANUS COLCHICUS', 'GEOCOCCYX', 'EOLOPHUS ROSEICAPILLA',\n",
       "       'PHEUCTICUS LUDOVICIANUS', 'PLATALEA AJAJA',\n",
       "       'AGAPORNIS ROSEICOLLIS', 'BUTEO LAGOPUS', 'ONYCHORHYNCHUS',\n",
       "       'REGULUS CALENDULA', 'ARCHILOCHUS COLUBRIS', 'TADORNA FERRUGINEA',\n",
       "       'HALCYON COROMANDA', 'CHLOROCERYLE INDA', 'DENDROCITTA VAGABUNDA',\n",
       "       'BARYPHTHENGUS MARTII', 'MYOPHONUS CASTANEUS', 'RIPARIA RIPARIA',\n",
       "       'GRUS CANADENSIS', 'TRAGOPAN SATYRA', 'SAYORNIS SAYA',\n",
       "       'PTILINOPUS INSULARIS', 'LIOCICHLA RIPPONI', 'EUDOCIMUS RUBER',\n",
       "       'ARA MACAO', 'PIRANGA OLIVACEA', 'BALAENICEPS REX',\n",
       "       'LIMNODROMUS GRISEUS', 'CALCARIUS PICTUS', 'ANSER CAERULESCENS',\n",
       "       'LERWA LERWA', 'EGRETTA THULA', 'BUBO SCANDIACUS',\n",
       "       'CHARADRIUS NIVOSUS', 'PORZANA CAROLINA', 'COTINGA CAYANA',\n",
       "       'MALURUS SPLENDENS', 'CALIDRIS PYGMAEA', 'AILUROEDUS MACULOSUS',\n",
       "       'DENDROCYGNA GUTTATA', 'ARDEOLA RALLOIDES', 'UROCISSA ORNATA',\n",
       "       'TACHYERES', 'PELARGOPSIS CAPENSIS', 'PHALCOBOENUS AUSTRALIS',\n",
       "       'ASIO CLAMATOR', 'MACHAEROPTERUS REGULUS', 'CECROPIS ABYSSINICA',\n",
       "       ' EURYPYGA HELIAS', 'LAMPROTORNIS SUPERBUS',\n",
       "       'MELANITTA PERSPICILLATA', 'LOPHURA SWINHOII',\n",
       "       'ORTHOTOMUS ATROGULARIS', 'UROCISSA CAERULEA',\n",
       "       'PORPHYRIO HOCHSTETTERI', 'TRIBONYX MORTIERII',\n",
       "       'PODARGUS STRIGOIDES', 'ANAS CRECCA', 'PARIDAE', 'RAMPHASTIDAE',\n",
       "       'SETOPHAGA TOWNSENDI', 'TACHYCINETA BICOLOR', 'AGELAIUS TRICOLOR',\n",
       "       'TYRANNUS MELANCHOLICUS', 'CYGNUS BUCCINATOR', 'CATHARTES AURA',\n",
       "       'EUMOMOTA SUPERCILIOSA', 'CEPHALOPTERUS', 'IXOREUS NAEVIUS',\n",
       "       'CATHARUS FUSCESCENS', 'ICTERUS ICTERUS', 'AURIPARUS FLAVICEPS',\n",
       "       'PYROCEPHALUS OBSCURUS', 'GOURA VICTORIA',\n",
       "       'CINNYRICINCLUS LEUCOGASTER', ' CHRYSOCOCCYX XANTHORHYNCHUS',\n",
       "       'TACHYCINETA THALASSINA', 'MUSOPHAGA VIOLACEA',\n",
       "       'PENELOPIDES PANINI', 'ACRYLLIUM VULTURINUM', 'TICHODROMA MURARIA',\n",
       "       'CRAX GLOBULOSA', 'VANELLUS INDICUS', 'NUMENIUS PHAEOPUS',\n",
       "       'AMAURORNIS PHOENICURUS', 'AMAURORNIS CINEREA', 'TAURACO LEUCOTIS',\n",
       "       'TROPICRANUS ALBOCRISTATUS', 'BASILINNA LEUCOTIS',\n",
       "       'CORVUS ALBICOLLIS', 'PHAETHON LEPTURUS', 'MEROPS ALBICOLLIS',\n",
       "       'MELEAGRIS GALLOPAVO', 'LAGOPUS LAGOPUS', 'CICINNURUS RESPUBLICA',\n",
       "       'AIX SPONSA', 'HYLOCICHLA MUSTELINA', 'HALCYON SENEGALENSIS',\n",
       "       'CHAMAEA FASCIATA', 'DICAEUM MELANOXANTHUM', 'CACICUS CELA',\n",
       "       'XANTHOCEPHALUS', 'GEOPELIA STRIATA', 'ICTERIA VIRENS',\n",
       "       'LOXIA CURVIROSTRA', 'CINCLUS MEXICANUS', 'PIPILE CUMANENSIS',\n",
       "       'STEATORNIS CARIPENSIS', 'CALIDRIS ALPINA', 'CHIONIS ALBUS',\n",
       "       'SARKIDIORNIS MELANOTOS', 'ORTALIS CINEREICEPS',\n",
       "       'NOTHARCHUS PECTORALIS'], dtype=object)"
      ]
     },
     "execution_count": 5,
     "metadata": {},
     "output_type": "execute_result"
    }
   ],
   "source": [
    "species_array = test['scientific name'].unique()\n",
    "species_array"
   ]
  },
  {
   "cell_type": "code",
   "execution_count": 6,
   "id": "45ab7293",
   "metadata": {},
   "outputs": [
    {
     "data": {
      "text/html": [
       "<div>\n",
       "<style scoped>\n",
       "    .dataframe tbody tr th:only-of-type {\n",
       "        vertical-align: middle;\n",
       "    }\n",
       "\n",
       "    .dataframe tbody tr th {\n",
       "        vertical-align: top;\n",
       "    }\n",
       "\n",
       "    .dataframe thead th {\n",
       "        text-align: right;\n",
       "    }\n",
       "</style>\n",
       "<table border=\"1\" class=\"dataframe\">\n",
       "  <thead>\n",
       "    <tr style=\"text-align: right;\">\n",
       "      <th></th>\n",
       "      <th>species_name</th>\n",
       "    </tr>\n",
       "  </thead>\n",
       "  <tbody>\n",
       "    <tr>\n",
       "      <th>517</th>\n",
       "      <td>CALIDRIS ALPINA</td>\n",
       "    </tr>\n",
       "    <tr>\n",
       "      <th>518</th>\n",
       "      <td>CHIONIS ALBUS</td>\n",
       "    </tr>\n",
       "    <tr>\n",
       "      <th>519</th>\n",
       "      <td>SARKIDIORNIS MELANOTOS</td>\n",
       "    </tr>\n",
       "    <tr>\n",
       "      <th>520</th>\n",
       "      <td>ORTALIS CINEREICEPS</td>\n",
       "    </tr>\n",
       "    <tr>\n",
       "      <th>521</th>\n",
       "      <td>NOTHARCHUS PECTORALIS</td>\n",
       "    </tr>\n",
       "  </tbody>\n",
       "</table>\n",
       "</div>"
      ],
      "text/plain": [
       "               species_name\n",
       "517         CALIDRIS ALPINA\n",
       "518           CHIONIS ALBUS\n",
       "519  SARKIDIORNIS MELANOTOS\n",
       "520     ORTALIS CINEREICEPS\n",
       "521   NOTHARCHUS PECTORALIS"
      ]
     },
     "execution_count": 6,
     "metadata": {},
     "output_type": "execute_result"
    }
   ],
   "source": [
    "species = pd.DataFrame(species_array, columns=['species_name'])\n",
    "species.tail()"
   ]
  },
  {
   "cell_type": "code",
   "execution_count": 7,
   "id": "41f90644",
   "metadata": {},
   "outputs": [],
   "source": [
    "# export the `species` dataframe to csv\n",
    "species.to_csv('species_list.csv', index=False)"
   ]
  },
  {
   "cell_type": "code",
   "execution_count": 8,
   "id": "fc47a941",
   "metadata": {},
   "outputs": [
    {
     "data": {
      "text/plain": [
       "0"
      ]
     },
     "execution_count": 8,
     "metadata": {},
     "output_type": "execute_result"
    }
   ],
   "source": [
    "# open `species_list.csv` to check\n",
    "bird_list = pd.read_csv('species_list.csv')\n",
    "bird_list['species_name'].duplicated().sum() # no duplicates"
   ]
  },
  {
   "cell_type": "markdown",
   "id": "c489d4d7",
   "metadata": {},
   "source": [
    "### Species from dataframe that are either frequently seen, occasionally migrate through, or are rarer but can be spotted in various parts of Asia"
   ]
  },
  {
   "cell_type": "markdown",
   "id": "bee5ccbc",
   "metadata": {},
   "source": [
    "- Merops orientalis (Little Green Bee-eater)\n",
    "- Hirundo rustica (Barn Swallow)\n",
    "- Sturnus vulgaris (Common Starling)\n",
    "- Pica pica (Eurasian Magpie)\n",
    "- Passer domesticus (House Sparrow)\n",
    "- Columba livia (Rock Dove)\n",
    "- Anas platyrhynchos (Mallard)\n",
    "- Acridotheres tristis (Common Myna)\n",
    "- Parus major (Great Tit)\n",
    "- Aquila chrysaetos (Golden Eagle)\n",
    "- Anas crecca (Common Teal)\n",
    "- Falco peregrinus (Peregrine Falcon)\n",
    "- Calidris alpina (Dunlin)\n",
    "\n",
    "13 species in total"
   ]
  },
  {
   "cell_type": "markdown",
   "id": "b4ca06a0",
   "metadata": {},
   "source": [
    "> need geographic distribution of each bird!!!"
   ]
  },
  {
   "cell_type": "markdown",
   "id": "cb6f2d59",
   "metadata": {},
   "source": [
    "## Calling eBird API "
   ]
  },
  {
   "cell_type": "code",
   "execution_count": 9,
   "id": "eab834f4",
   "metadata": {},
   "outputs": [],
   "source": [
    "# Practise calling public API for information on the species"
   ]
  }
 ],
 "metadata": {
  "kernelspec": {
   "display_name": "Python 3 (ipykernel)",
   "language": "python",
   "name": "python3"
  },
  "language_info": {
   "codemirror_mode": {
    "name": "ipython",
    "version": 3
   },
   "file_extension": ".py",
   "mimetype": "text/x-python",
   "name": "python",
   "nbconvert_exporter": "python",
   "pygments_lexer": "ipython3",
   "version": "3.10.6"
  },
  "toc": {
   "base_numbering": 1,
   "nav_menu": {},
   "number_sections": true,
   "sideBar": true,
   "skip_h1_title": false,
   "title_cell": "Table of Contents",
   "title_sidebar": "Contents",
   "toc_cell": false,
   "toc_position": {},
   "toc_section_display": true,
   "toc_window_display": false
  }
 },
 "nbformat": 4,
 "nbformat_minor": 5
}
